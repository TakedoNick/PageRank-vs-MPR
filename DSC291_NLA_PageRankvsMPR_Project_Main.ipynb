{
 "cells": [
  {
   "cell_type": "markdown",
   "id": "49739aa4",
   "metadata": {},
   "source": [
    "#### 0.1 Libraries for Linear Algebra"
   ]
  },
  {
   "cell_type": "code",
   "execution_count": 4,
   "id": "98837c40",
   "metadata": {},
   "outputs": [],
   "source": [
    "import numpy as np\n",
    "from scipy.sparse import csr_matrix\n",
    "import scipy.sparse as sps\n",
    "from scipy.sparse import diags"
   ]
  },
  {
   "cell_type": "markdown",
   "id": "b0803b5a",
   "metadata": {},
   "source": [
    "#### 0.2 Libraries for working with Graphs and Visualization"
   ]
  },
  {
   "cell_type": "code",
   "execution_count": 5,
   "id": "0ea7e269",
   "metadata": {},
   "outputs": [],
   "source": [
    "from IPython.display import SVG\n",
    "import sknetwork as skn\n",
    "from sknetwork.visualization import svg_digraph\n",
    "import time"
   ]
  },
  {
   "cell_type": "markdown",
   "id": "343ba01e",
   "metadata": {},
   "source": [
    "## 1. Load Input Data"
   ]
  },
  {
   "cell_type": "markdown",
   "id": "765146e2",
   "metadata": {},
   "source": [
    "### 1.1 Edge List --> Citation Network"
   ]
  },
  {
   "cell_type": "code",
   "execution_count": 6,
   "id": "72f39b3b",
   "metadata": {},
   "outputs": [],
   "source": [
    "def edge_list_from_network(network_file):\n",
    "    f = open(network_file, 'r')\n",
    "    content = map(lambda x: x[:-1].split(';'), f.readlines())\n",
    "    cite_net_edges = list(map(lambda x: (int(x[0]), int(x[0])), content))\n",
    "    f.close()\n",
    "    return cite_net_edges"
   ]
  },
  {
   "cell_type": "markdown",
   "id": "c4c264ef",
   "metadata": {},
   "source": [
    "## 2. Construst Adjacency Matrix \n",
    "<br>\n",
    "<span style=\"color:black;font-weight:400;font-size:15px;font-family:Arial\"> \n",
    "Type: CSR - Condensed Sparsed Rows | d-type: float64\n",
    "</span>"
   ]
  },
  {
   "cell_type": "code",
   "execution_count": 7,
   "id": "4e411cb2",
   "metadata": {},
   "outputs": [],
   "source": [
    "def get_adjacency_matrix(edgeList):\n",
    "    # edge_list will be a list of tuples of form (src id, dst id)\n",
    "    main_graph = skn.data.from_edge_list(edge_list=edgeList, directed=True) \n",
    "    # create the sparse adjacency matrix using the edge data\n",
    "    adjacency_matrix = main_graph.adjacency.astype(np.float64)\n",
    "    node_names = main_graph.names\n",
    "    return adjacency_matrix, node_names"
   ]
  },
  {
   "cell_type": "markdown",
   "id": "845c4a43",
   "metadata": {},
   "source": [
    "## 3. Construst Random walk Transition Matrix \n",
    "<br>\n",
    "<span style=\"color:black;font-weight:400;font-size:15px;font-family:Arial\"> \n",
    "Type: CSR - Condensed Sparsed Rows | d-type: float64\n",
    "</span>"
   ]
  },
  {
   "cell_type": "code",
   "execution_count": 8,
   "id": "c39654c7",
   "metadata": {},
   "outputs": [],
   "source": [
    "def get_transition_matrix(adjMat):\n",
    "    for number in range(0, np.size(adjMat, 0)):\n",
    "        row_sum = adjMat.getrow(number).sum()\n",
    "        if row_sum == 0:\n",
    "            continue\n",
    "        else:\n",
    "            for number_col in adjMat.indices[adjMat.indptr[number]:adjMat.indptr[number+1]]:\n",
    "                adjMat[number, number_col] = adjMat[number, number_col] / row_sum\n",
    "    return adjMat.T"
   ]
  },
  {
   "cell_type": "markdown",
   "id": "47f58c9b",
   "metadata": {},
   "source": [
    "## 4. PageRank Algorithm \n",
    "<br>\n",
    "<span style=\"color:black;font-weight:400;font-size:15px;font-family:Arial\"> \n",
    "    Vanilla PageRank Algorithm | Adapted from <i>pagerank_motif_direct.py</i> from <i>H.Zhao Et.Al</i>\n",
    "</span>"
   ]
  },
  {
   "cell_type": "code",
   "execution_count": 9,
   "id": "b027c9c5",
   "metadata": {},
   "outputs": [],
   "source": [
    "MAX_TIME = 30000\n",
    "# PageRank Algorithm\n",
    "def pageRank(p, m, v):\n",
    "    e = np.ones((m.shape[0], 1))\n",
    "    n = m.shape[0]\n",
    "    count = 0\n",
    "    while count <= MAX_TIME:\n",
    "        v = p * m.dot(v) + ((1 - p) / n) * e\n",
    "        count = count + 1\n",
    "    return v\n",
    "\n",
    "# Initializing PageRank Scores\n",
    "def firstPr(transitionMatrix):\n",
    "    pr = np.zeros((transitionMatrix.shape[0], 1), dtype=float)\n",
    "    for i in range(transitionMatrix.shape[0]):\n",
    "        pr[i] = float(1) / transitionMatrix.shape[0]\n",
    "    return pr\n",
    "\n",
    "#Computing PageRank Scores\n",
    "def compute_pagerank(adjacency_matrix, alpha):\n",
    "    T = get_transition_matrix(adjacency_matrix)\n",
    "    pr = firstPr(T)\n",
    "    p = 1 - alpha\n",
    "    return pageRank(p, T, pr)"
   ]
  },
  {
   "cell_type": "markdown",
   "id": "14409c5a",
   "metadata": {},
   "source": [
    "## 5. Motif-Based PageRank Algorithm \n",
    "<br>\n",
    "<span style=\"color:black;font-weight:400;font-size:15px;font-family:Arial\"> \n",
    "    MPR Algorithm | Adapted from <i>pagerank_motif_direct.py</i> from <i>H.Zhao Et.Al</i>\n",
    "</span>"
   ]
  },
  {
   "cell_type": "markdown",
   "id": "1631f3a1",
   "metadata": {},
   "source": [
    "### 5.1 Motif Type\n",
    "<br>\n",
    "<span style=\"color:black;font-weight:400;font-size:15px;font-family:Arial\"> \n",
    "    <b>Motif Types Used:</b> <i>M1, M2, M3, M4, M5, M6, M7</i>\n",
    "</span>"
   ]
  },
  {
   "cell_type": "code",
   "execution_count": 10,
   "id": "9902a5a3",
   "metadata": {},
   "outputs": [],
   "source": [
    "def motif_types(adjacency_matrix, motif_order, motif_type):\n",
    "    if motif_type == 'M1':\n",
    "        for i in range(motif_order):\n",
    "            adjacency_tran = np.transpose(adjacency_matrix)\n",
    "            B_matrix_spare = adjacency_matrix.multiply(adjacency_tran)\n",
    "            U_matrix = adjacency_matrix - B_matrix_spare\n",
    "            U_matrix = np.abs(U_matrix)\n",
    "            U_tran = np.transpose(U_matrix)\n",
    "            result_1 = U_matrix.dot(U_matrix)\n",
    "            result_1 = result_1.multiply(U_tran)\n",
    "            adjacency_matrix = result_1\n",
    "            adjacency_matrix = normal_matrix_new(adjacency_matrix)\n",
    "            adjacency_tran = np.transpose(adjacency_matrix)\n",
    "            adjacency_matrix = adjacency_matrix + adjacency_tran\n",
    "    elif motif_type == 'M2':\n",
    "        for i in range(motif_order):\n",
    "            adjacency_tran = np.transpose(adjacency_matrix)\n",
    "            B_matrix_spare = adjacency_matrix.multiply(adjacency_tran)\n",
    "            U_matrix = adjacency_matrix - B_matrix_spare\n",
    "            U_matrix = np.abs(U_matrix)\n",
    "            U_tran = np.transpose(U_matrix)\n",
    "            result_1 = B_matrix_spare.dot(U_matrix)\n",
    "            result_1 = result_1.multiply(U_tran)\n",
    "            result_2 = U_matrix.dot(B_matrix_spare)\n",
    "            result_2 = result_2.multiply(U_tran)\n",
    "            result_3 = U_matrix.dot(U_matrix)\n",
    "            result_3 = result_3.multiply(B_matrix_spare)\n",
    "            adjacency_matrix = result_1 + result_2\n",
    "            adjacency_matrix = adjacency_matrix + result_3\n",
    "            adjacency_matrix = normal_matrix_new(adjacency_matrix)\n",
    "            adjacency_tran = np.transpose(adjacency_matrix)\n",
    "            adjacency_matrix = adjacency_matrix + adjacency_tran\n",
    "    elif motif_type == 'M3':\n",
    "        for i in range(motif_order):\n",
    "            adjacency_tran = np.transpose(adjacency_matrix)\n",
    "            B_matrix_spare = adjacency_matrix.multiply(adjacency_tran)\n",
    "            U_matrix = adjacency_matrix - B_matrix_spare\n",
    "            U_matrix = np.abs(U_matrix)\n",
    "            result_1 = B_matrix_spare.dot(B_matrix_spare)\n",
    "            result_1 = result_1.multiply(U_matrix)\n",
    "            result_2 = B_matrix_spare.dot(U_matrix)\n",
    "            result_2 = result_2.multiply(B_matrix_spare)\n",
    "            result_3 = U_matrix.dot(B_matrix_spare)\n",
    "            result_3 = result_3.multiply(B_matrix_spare)\n",
    "            adjacency_matrix = result_1 + result_2\n",
    "            adjacency_matrix = adjacency_matrix + result_3\n",
    "            adjacency_matrix = normal_matrix_new(adjacency_matrix)\n",
    "            adjacency_tran = np.transpose(adjacency_matrix)\n",
    "            adjacency_matrix = adjacency_matrix + adjacency_tran\n",
    "    elif motif_type == 'M4':\n",
    "        for i in range(motif_order):\n",
    "            adjacency_tran = np.transpose(adjacency_matrix)\n",
    "            B_matrix_spare = adjacency_matrix.multiply(adjacency_tran)\n",
    "            result_1 = B_matrix_spare.dot(B_matrix_spare)\n",
    "            result_1 = result_1.multiply(B_matrix_spare)\n",
    "            adjacency_matrix = result_1\n",
    "            adjacency_matrix = normal_matrix_new(adjacency_matrix)\n",
    "    elif motif_type == 'M5':\n",
    "        for i in range(motif_order):\n",
    "            adjacency_tran = np.transpose(adjacency_matrix)\n",
    "            B_matrix_spare = adjacency_matrix.multiply(adjacency_tran)\n",
    "            U_matrix = adjacency_matrix - B_matrix_spare\n",
    "            U_matrix = np.abs(U_matrix)\n",
    "            U_tran = np.transpose(U_matrix)\n",
    "            result_1 = U_matrix.dot(U_matrix)\n",
    "            result_1 = result_1.multiply(U_matrix)\n",
    "            result_2 = U_matrix.dot(U_tran)\n",
    "            result_2 = result_2.multiply(U_matrix)\n",
    "            result_3 = U_tran.dot(U_matrix)\n",
    "            result_3 = result_3.multiply(U_matrix)\n",
    "            adjacency_matrix = result_1 + result_2\n",
    "            adjacency_matrix = adjacency_matrix + result_3\n",
    "            adjacency_matrix = normal_matrix_new(adjacency_matrix)\n",
    "            adjacency_tran = np.transpose(adjacency_matrix)\n",
    "            adjacency_matrix = adjacency_matrix + adjacency_tran\n",
    "    elif motif_type == 'M6':\n",
    "        for i in range(motif_order):\n",
    "            adjacency_tran = np.transpose(adjacency_matrix)\n",
    "            B_matrix_spare = adjacency_matrix.multiply(adjacency_tran)\n",
    "            U_matrix = adjacency_matrix - B_matrix_spare\n",
    "            U_matrix = np.abs(U_matrix)\n",
    "            U_tran = np.transpose(U_matrix)\n",
    "            result_1 = U_matrix.dot(B_matrix_spare)\n",
    "            result_1 = result_1.multiply(U_matrix)\n",
    "            result_2 = B_matrix_spare.dot(U_tran)\n",
    "            result_2 = result_2.multiply(U_tran)\n",
    "            result_3 = U_tran.dot(U_matrix)\n",
    "            result_3 = result_3.multiply(B_matrix_spare)\n",
    "            adjacency_matrix = result_1 + result_2\n",
    "            adjacency_matrix = adjacency_matrix + result_3\n",
    "            adjacency_matrix = normal_matrix_new(adjacency_matrix)\n",
    "    elif motif_type == 'M7':\n",
    "        for i in range(motif_order):\n",
    "            adjacency_tran = np.transpose(adjacency_matrix)\n",
    "            B_matrix_spare = adjacency_matrix.multiply(adjacency_tran)\n",
    "            U_matrix = adjacency_matrix - B_matrix_spare\n",
    "            U_matrix = np.abs(U_matrix)\n",
    "            U_tran = np.transpose(U_matrix)\n",
    "            result_1 = U_tran.dot(B_matrix_spare)\n",
    "            result_1 = result_1.multiply(U_tran)\n",
    "            result_2 = B_matrix_spare.dot(U_matrix)\n",
    "            result_2 = result_2.multiply(U_matrix)\n",
    "            result_3 = U_matrix.dot(U_tran)\n",
    "            result_3 = result_3.multiply(B_matrix_spare)\n",
    "            adjacency_matrix = result_1 + result_2\n",
    "            adjacency_matrix = adjacency_matrix + result_3\n",
    "            adjacency_matrix = normal_matrix_new(adjacency_matrix)\n",
    "    return adjacency_matrix\n",
    "\n",
    "def normal_matrix_new(a):\n",
    "    # For symmetric matrices, we can use matrix multiplication to normalize, which is faster.\n",
    "    d = a.sum(0)\n",
    "    d = np.array(d)\n",
    "    d = d[0]\n",
    "    dd = list(map(lambda x: 0 if x==0 else np.power(x, -0.5), d))\n",
    "    D_matrix = diags(dd, 0)\n",
    "    C = D_matrix.dot(a)\n",
    "    C = C.dot(D_matrix)\n",
    "    a = C\n",
    "    return a"
   ]
  },
  {
   "cell_type": "markdown",
   "id": "c9c95581",
   "metadata": {},
   "source": [
    "### 5.2 Construct Motifs\n",
    "<br>\n",
    "<span style=\"color:black;font-weight:400;font-size:15px;font-family:Arial\"> \n",
    "    <b>Motif Types Used:</b> <i>M1, M2, M3, M4, M5, M6, M7</i>\n",
    "</span>"
   ]
  },
  {
   "cell_type": "code",
   "execution_count": 11,
   "id": "b6dcf168",
   "metadata": {},
   "outputs": [],
   "source": [
    "def construct_motif(adjacency_matrix, motif_order, motif_type, alpha):\n",
    "    data_array = adjacency_matrix.data\n",
    "    # adjacency_matrix.data is mainly to be able to build the matrix in the binary case.\n",
    "    adjacency_matrix.data = np.ones((1, data_array.shape[0]), dtype=np.float64)[0]\n",
    "    result_B = adjacency_matrix.copy()\n",
    "    result_B = row_normal_matrix(result_B)\n",
    "    # result_B is row_normalized adjacency_matrix\n",
    "    result_C = motif_types(adjacency_matrix, motif_order, motif_type)\n",
    "    # result_C represents the normalized motif matrix \n",
    "    # The following uses the parameter alpha to fuse the two matrices\n",
    "    result_temp1 = result_B.multiply(alpha).tolil()\n",
    "    result_temp2 = result_C.multiply(1-alpha).tolil()\n",
    "    result_D = result_temp1 + result_temp2\n",
    "    MPR_adj = result_D.tocsr()\n",
    "    return MPR_adj\n",
    "\n",
    "def row_normal_matrix(mat):\n",
    "    for number in range(0, np.size(mat, 0)):\n",
    "        row_sum = mat.getrow(number).sum()\n",
    "        if row_sum == 0:\n",
    "            continue\n",
    "        else:\n",
    "            for number_col in mat.indices[mat.indptr[number]:mat.indptr[number+1]]:\n",
    "                mat[number, number_col] = mat[number, number_col] / row_sum\n",
    "    return mat"
   ]
  },
  {
   "cell_type": "markdown",
   "id": "88638ced",
   "metadata": {},
   "source": [
    "### 5.3 MPR Algorithm"
   ]
  },
  {
   "cell_type": "code",
   "execution_count": 12,
   "id": "109ebbd2",
   "metadata": {},
   "outputs": [],
   "source": [
    "def MPR(adjacency_matrix, motif_order, motif_type, alpha):\n",
    "    mpr_adjacency_matrix = construct_motif(adjacency_matrix, motif_order, motif_type, alpha)\n",
    "    return compute_pagerank(mpr_adjacency_matrix, alpha)"
   ]
  },
  {
   "cell_type": "markdown",
   "id": "cf5ca5cf",
   "metadata": {},
   "source": [
    "## 6. Output \n",
    "### Test Results on original citation network:\n",
    "<span style=\"color:black;font-weight:350;font-size:16px;font-family:Arial\"> \n",
    "    <b><i>\n",
    "        <br>\n",
    "        PageRank | $\\alpha$ = 0.1 <br>\n",
    "        <br>\n",
    "        MPR | $\\alpha$ = 0.1, Motif Order = 1, Motif Type = M4\n",
    "        </i> </b>\n",
    "</span>"
   ]
  },
  {
   "cell_type": "code",
   "execution_count": 13,
   "id": "4ed88190",
   "metadata": {},
   "outputs": [],
   "source": [
    "network_file = 'data/DBLP/citation_network.txt'\n",
    "cite_net_edges = edge_list_from_network(network_file)\n",
    "cite_net_adjacency_matrix, cite_net_node_names = get_adjacency_matrix(cite_net_edges)\n",
    "pagerank_original_result = compute_pagerank(cite_net_adjacency_matrix, 0.1)\n",
    "MPR_result = MPR(cite_net_adjacency_matrix, 1, 'M4', 0.1)"
   ]
  },
  {
   "cell_type": "markdown",
   "id": "e936aa9d",
   "metadata": {},
   "source": [
    "## 7. Experiments | Evaluations \n",
    "\n",
    "> 1. Efficiency\n",
    "\n",
    "> 2. Robustness\n",
    "\n",
    "> 3. Accuracy"
   ]
  },
  {
   "cell_type": "markdown",
   "id": "df953254",
   "metadata": {},
   "source": [
    "### 7.1 Evaluating Efficiency"
   ]
  },
  {
   "cell_type": "code",
   "execution_count": 29,
   "id": "dd1bcdba",
   "metadata": {},
   "outputs": [
    {
     "name": "stdout",
     "output_type": "stream",
     "text": [
      " "
     ]
    },
    {
     "data": {
      "application/vnd.jupyter.widget-view+json": {
       "model_id": "98a87835baed4991ac0bc1f3d66ed58f",
       "version_major": 2,
       "version_minor": 0
      },
      "text/plain": [
       "cpu%:   0%|          | 0/100 [00:00<?, ?it/s]"
      ]
     },
     "metadata": {},
     "output_type": "display_data"
    },
    {
     "data": {
      "application/vnd.jupyter.widget-view+json": {
       "model_id": "073e4a658c524952bd11c32ea9345753",
       "version_major": 2,
       "version_minor": 0
      },
      "text/plain": [
       "ram%:   0%|          | 0/100 [00:00<?, ?it/s]"
      ]
     },
     "metadata": {},
     "output_type": "display_data"
    }
   ],
   "source": [
    "# Background processing cell\n",
    "import multiprocessing as mp\n",
    "from tqdm.notebook import tqdm\n",
    "from time import sleep\n",
    "import psutil\n",
    "\n",
    "def efficiency_eval_background_thread():\n",
    "    print(' ', end='', flush=True)\n",
    "    with tqdm(total=100, desc='cpu%', position=1) as cpubar, tqdm(total=100, desc='ram%', position=0) as rambar:\n",
    "        while True:\n",
    "            rambar.n=psutil.virtual_memory().percent\n",
    "            cpubar.n=psutil.cpu_percent()\n",
    "            rambar.refresh()\n",
    "            cpubar.refresh()\n",
    "            sleep(1)\n",
    "\n",
    "            \n",
    "if __name__ == '__main__':\n",
    "    p = mp.Process(target=efficiency_eval_background_thread)\n",
    "    p.start()"
   ]
  },
  {
   "cell_type": "code",
   "execution_count": 30,
   "id": "30deeaa6",
   "metadata": {},
   "outputs": [],
   "source": [
    "%load_ext memory_profiler"
   ]
  },
  {
   "cell_type": "markdown",
   "id": "979726c8",
   "metadata": {},
   "source": [
    "#### For PageRank $\\alpha = 0.1$"
   ]
  },
  {
   "cell_type": "code",
   "execution_count": 42,
   "id": "62b08de9",
   "metadata": {},
   "outputs": [
    {
     "name": "stdout",
     "output_type": "stream",
     "text": [
      "15.6 s ± 272 ms per loop (mean ± std. dev. of 7 runs, 1 loop each)\n"
     ]
    }
   ],
   "source": [
    "%%timeit\n",
    "cite_net_adjacency_matrix, cite_net_node_names = get_adjacency_matrix(cite_net_edges)\n",
    "pagerank_original_result = compute_pagerank(cite_net_adjacency_matrix, 0.1)"
   ]
  },
  {
   "cell_type": "code",
   "execution_count": 43,
   "id": "dbae9292",
   "metadata": {},
   "outputs": [
    {
     "name": "stdout",
     "output_type": "stream",
     "text": [
      "peak memory: 515.62 MiB, increment: 148.91 MiB\n"
     ]
    }
   ],
   "source": [
    "%%memit\n",
    "cite_net_adjacency_matrix, cite_net_node_names = get_adjacency_matrix(cite_net_edges)\n",
    "pagerank_original_result = compute_pagerank(cite_net_adjacency_matrix, 0.1)"
   ]
  },
  {
   "cell_type": "markdown",
   "id": "e822b8e9",
   "metadata": {},
   "source": [
    "#### For MPR $\\alpha = 0.1 \\text{ and } M_1$ "
   ]
  },
  {
   "cell_type": "code",
   "execution_count": 44,
   "id": "d5adf351",
   "metadata": {},
   "outputs": [
    {
     "name": "stdout",
     "output_type": "stream",
     "text": [
      "23.8 s ± 260 ms per loop (mean ± std. dev. of 7 runs, 1 loop each)\n"
     ]
    }
   ],
   "source": [
    "%%timeit\n",
    "cite_net_adjacency_matrix, cite_net_node_names = get_adjacency_matrix(cite_net_edges)\n",
    "MPR_result = MPR(cite_net_adjacency_matrix, 1, 'M1', 0.1)"
   ]
  },
  {
   "cell_type": "code",
   "execution_count": 45,
   "id": "20ec62ce",
   "metadata": {},
   "outputs": [
    {
     "name": "stdout",
     "output_type": "stream",
     "text": [
      "peak memory: 515.32 MiB, increment: 146.47 MiB\n"
     ]
    }
   ],
   "source": [
    "%%memit\n",
    "cite_net_adjacency_matrix, cite_net_node_names = get_adjacency_matrix(cite_net_edges)\n",
    "MPR_result = MPR(cite_net_adjacency_matrix, 1, 'M1', 0.1)"
   ]
  },
  {
   "cell_type": "markdown",
   "id": "c9f71cfb",
   "metadata": {},
   "source": [
    "#### For MPR $\\alpha = 0.1 \\text{ and } M_2$ "
   ]
  },
  {
   "cell_type": "code",
   "execution_count": 46,
   "id": "350a5fd6",
   "metadata": {},
   "outputs": [
    {
     "name": "stdout",
     "output_type": "stream",
     "text": [
      "24.8 s ± 904 ms per loop (mean ± std. dev. of 7 runs, 1 loop each)\n"
     ]
    }
   ],
   "source": [
    "%%timeit\n",
    "cite_net_adjacency_matrix, cite_net_node_names = get_adjacency_matrix(cite_net_edges)\n",
    "MPR_result = MPR(cite_net_adjacency_matrix, 1, 'M2', 0.1)"
   ]
  },
  {
   "cell_type": "code",
   "execution_count": 47,
   "id": "443c371b",
   "metadata": {},
   "outputs": [
    {
     "name": "stdout",
     "output_type": "stream",
     "text": [
      "peak memory: 514.98 MiB, increment: 144.88 MiB\n"
     ]
    }
   ],
   "source": [
    "%%memit\n",
    "cite_net_adjacency_matrix, cite_net_node_names = get_adjacency_matrix(cite_net_edges)\n",
    "MPR_result = MPR(cite_net_adjacency_matrix, 1, 'M2', 0.1)"
   ]
  },
  {
   "cell_type": "markdown",
   "id": "0b7d280f",
   "metadata": {},
   "source": [
    "#### For MPR $\\alpha = 0.1 \\text{ and } M_3$ "
   ]
  },
  {
   "cell_type": "code",
   "execution_count": 48,
   "id": "56baaca3",
   "metadata": {},
   "outputs": [
    {
     "name": "stdout",
     "output_type": "stream",
     "text": [
      "24.2 s ± 352 ms per loop (mean ± std. dev. of 7 runs, 1 loop each)\n"
     ]
    }
   ],
   "source": [
    "%%timeit\n",
    "cite_net_adjacency_matrix, cite_net_node_names = get_adjacency_matrix(cite_net_edges)\n",
    "MPR_result = MPR(cite_net_adjacency_matrix, 1, 'M3', 0.1)"
   ]
  },
  {
   "cell_type": "code",
   "execution_count": 49,
   "id": "54c04ae3",
   "metadata": {},
   "outputs": [
    {
     "name": "stdout",
     "output_type": "stream",
     "text": [
      "peak memory: 515.59 MiB, increment: 144.23 MiB\n"
     ]
    }
   ],
   "source": [
    "%%memit\n",
    "cite_net_adjacency_matrix, cite_net_node_names = get_adjacency_matrix(cite_net_edges)\n",
    "MPR_result = MPR(cite_net_adjacency_matrix, 1, 'M3', 0.1)"
   ]
  },
  {
   "cell_type": "markdown",
   "id": "b4dbcb20",
   "metadata": {},
   "source": [
    "#### For MPR $\\alpha = 0.1 \\text{ and } M_4$ "
   ]
  },
  {
   "cell_type": "code",
   "execution_count": 50,
   "id": "cd7854d6",
   "metadata": {},
   "outputs": [
    {
     "name": "stdout",
     "output_type": "stream",
     "text": [
      "24.4 s ± 264 ms per loop (mean ± std. dev. of 7 runs, 1 loop each)\n"
     ]
    }
   ],
   "source": [
    "%%timeit\n",
    "cite_net_adjacency_matrix, cite_net_node_names = get_adjacency_matrix(cite_net_edges)\n",
    "MPR_result = MPR(cite_net_adjacency_matrix, 1, 'M4', 0.1)"
   ]
  },
  {
   "cell_type": "code",
   "execution_count": 51,
   "id": "e740e08b",
   "metadata": {},
   "outputs": [
    {
     "name": "stdout",
     "output_type": "stream",
     "text": [
      "peak memory: 520.19 MiB, increment: 149.47 MiB\n"
     ]
    }
   ],
   "source": [
    "%%memit\n",
    "cite_net_adjacency_matrix, cite_net_node_names = get_adjacency_matrix(cite_net_edges)\n",
    "MPR_result = MPR(cite_net_adjacency_matrix, 1, 'M4', 0.1)"
   ]
  },
  {
   "cell_type": "markdown",
   "id": "88fe5b35",
   "metadata": {},
   "source": [
    "#### For MPR $\\alpha = 0.1 \\text{ and } M_5$ "
   ]
  },
  {
   "cell_type": "code",
   "execution_count": 52,
   "id": "2e83e5f7",
   "metadata": {},
   "outputs": [
    {
     "name": "stdout",
     "output_type": "stream",
     "text": [
      "23.5 s ± 315 ms per loop (mean ± std. dev. of 7 runs, 1 loop each)\n"
     ]
    }
   ],
   "source": [
    "%%timeit\n",
    "cite_net_adjacency_matrix, cite_net_node_names = get_adjacency_matrix(cite_net_edges)\n",
    "MPR_result = MPR(cite_net_adjacency_matrix, 1, 'M5', 0.1)"
   ]
  },
  {
   "cell_type": "code",
   "execution_count": 53,
   "id": "9c249bb4",
   "metadata": {},
   "outputs": [
    {
     "name": "stdout",
     "output_type": "stream",
     "text": [
      "peak memory: 515.86 MiB, increment: 143.99 MiB\n"
     ]
    }
   ],
   "source": [
    "%%memit\n",
    "cite_net_adjacency_matrix, cite_net_node_names = get_adjacency_matrix(cite_net_edges)\n",
    "MPR_result = MPR(cite_net_adjacency_matrix, 1, 'M5', 0.1)"
   ]
  },
  {
   "cell_type": "markdown",
   "id": "04af44cf",
   "metadata": {},
   "source": [
    "#### For MPR $\\alpha = 0.1 \\text{ and } M_6$ "
   ]
  },
  {
   "cell_type": "code",
   "execution_count": 54,
   "id": "6f5f3877",
   "metadata": {},
   "outputs": [
    {
     "name": "stdout",
     "output_type": "stream",
     "text": [
      "23.2 s ± 426 ms per loop (mean ± std. dev. of 7 runs, 1 loop each)\n"
     ]
    }
   ],
   "source": [
    "%%timeit\n",
    "cite_net_adjacency_matrix, cite_net_node_names = get_adjacency_matrix(cite_net_edges)\n",
    "MPR_result = MPR(cite_net_adjacency_matrix, 1, 'M6', 0.1)"
   ]
  },
  {
   "cell_type": "code",
   "execution_count": 55,
   "id": "d03a97c4",
   "metadata": {},
   "outputs": [
    {
     "name": "stdout",
     "output_type": "stream",
     "text": [
      "peak memory: 514.37 MiB, increment: 141.75 MiB\n"
     ]
    }
   ],
   "source": [
    "%%memit\n",
    "cite_net_adjacency_matrix, cite_net_node_names = get_adjacency_matrix(cite_net_edges)\n",
    "MPR_result = MPR(cite_net_adjacency_matrix, 1, 'M6', 0.1)"
   ]
  },
  {
   "cell_type": "markdown",
   "id": "2063020f",
   "metadata": {},
   "source": [
    "#### For MPR $\\alpha = 0.1 \\text{ and } M_7$ "
   ]
  },
  {
   "cell_type": "code",
   "execution_count": 56,
   "id": "84e1cf6f",
   "metadata": {},
   "outputs": [
    {
     "name": "stdout",
     "output_type": "stream",
     "text": [
      "24.4 s ± 805 ms per loop (mean ± std. dev. of 7 runs, 1 loop each)\n"
     ]
    }
   ],
   "source": [
    "%%timeit\n",
    "cite_net_adjacency_matrix, cite_net_node_names = get_adjacency_matrix(cite_net_edges)\n",
    "MPR_result = MPR(cite_net_adjacency_matrix, 1, 'M7', 0.1)"
   ]
  },
  {
   "cell_type": "code",
   "execution_count": 57,
   "id": "7d50bb92",
   "metadata": {},
   "outputs": [
    {
     "name": "stdout",
     "output_type": "stream",
     "text": [
      "peak memory: 523.21 MiB, increment: 149.32 MiB\n"
     ]
    }
   ],
   "source": [
    "%%memit\n",
    "cite_net_adjacency_matrix, cite_net_node_names = get_adjacency_matrix(cite_net_edges)\n",
    "MPR_result = MPR(cite_net_adjacency_matrix, 1, 'M7', 0.1)"
   ]
  },
  {
   "cell_type": "markdown",
   "id": "f0b7de4e",
   "metadata": {},
   "source": [
    "#### Plotting results - Execution Time"
   ]
  },
  {
   "cell_type": "code",
   "execution_count": 71,
   "id": "aa9f2afa",
   "metadata": {},
   "outputs": [
    {
     "data": {
      "image/png": "[encoded data removed]",
      "text/plain": [
       "<Figure size 720x432 with 1 Axes>"
      ]
     },
     "metadata": {
      "needs_background": "light"
     },
     "output_type": "display_data"
    }
   ],
   "source": [
    "import matplotlib.pyplot as plt\n",
    "fig = plt.figure(figsize=(10,6))\n",
    "ax = fig.add_axes([0,0,1,1])\n",
    "labels = ['PageRank'] + ['MPR M%d'%i for i in range(1,8)]\n",
    "mean_time = [15.6,23.8,24.8,24.2,24.4, 23.5, 23.2, 24.4]\n",
    "std_dev_time = [1,1,1,1,1,1,1]\n",
    "ax.bar(labels,mean_time, color=['firebrick', 'navy', 'navy','navy','navy','navy','navy','navy',])\n",
    "# ax.errorbar(labels, mean_time, yerr=std_dev_time, marker='s', mfc='red', mec='red', ms=20, mew=4)\n",
    "\n",
    "plt.title('Compute Time for Pagerank vs MPR (M1 to M7 Motifs)')\n",
    "plt.ylabel('Mean Execution Time in seconds + standard deviation')\n",
    "plt.ylim([0, 28])\n",
    "plt.show()"
   ]
  },
  {
   "cell_type": "markdown",
   "id": "d2c32528",
   "metadata": {},
   "source": [
    "#### Plotting results - Memory Usage"
   ]
  },
  {
   "cell_type": "code",
   "execution_count": 72,
   "id": "5b4f617c",
   "metadata": {},
   "outputs": [
    {
     "data": {
      "image/png": "[encoded data removed]",
      "text/plain": [
       "<Figure size 720x432 with 1 Axes>"
      ]
     },
     "metadata": {
      "needs_background": "light"
     },
     "output_type": "display_data"
    }
   ],
   "source": [
    "fig = plt.figure(figsize=(10,6))\n",
    "ax = fig.add_axes([0,0,1,1])\n",
    "peak_mem = [515.62, 515.32, 514.98, 515.59, 520.19, 515.86, 514.37, 523.21]\n",
    "increment_mem = [1,1,1,1,1,1,1]\n",
    "ax.bar(labels,peak_mem, color=['firebrick', 'navy', 'navy','navy','navy','navy','navy','navy',])\n",
    "# ax.errorbar(labels, mean_time)\n",
    "\n",
    "plt.title('Memory Usage for Pagerank vs MPR (M1 to M7 Motifs)')\n",
    "plt.ylabel('Peak Memory Usage in Megabytes(MiB) + increments')\n",
    "plt.ylim([0,600])\n",
    "plt.show()"
   ]
  },
  {
   "cell_type": "markdown",
   "id": "7dd1a95f",
   "metadata": {},
   "source": [
    "## 7.2 Evaluating Robustness"
   ]
  },
  {
   "cell_type": "markdown",
   "id": "d1f078d6",
   "metadata": {},
   "source": [
    "### 7.2.1 Adding extraneous nodes to the data"
   ]
  },
  {
   "cell_type": "code",
   "execution_count": null,
   "id": "787317de",
   "metadata": {},
   "outputs": [],
   "source": [
    "'''Running this cell is going to create the modified data again, \n",
    "and so it is suggested to not run this cell, as the data already\n",
    "exists in the data/DBLP/ directory.''' \n",
    "import random\n",
    "\n",
    "# code adapted from __main__ code in pagerank_motif_direct to instead keep a set of all node ids in the graph\n",
    "# network_file: network file path, e.g. 'data/DBLP/citation_network.txt'\n",
    "def get_ids_and_copy(network_file, out_file):\n",
    "    ids = set()\n",
    "    f = open(network_file)\n",
    "    o = open(out_file, 'w')\n",
    "    edge_count = 0\n",
    "    while True:\n",
    "        line = f.readline()\n",
    "        o.write(line)\n",
    "        if line:\n",
    "            edge_count += 1\n",
    "            line = line.replace('\\n', '')\n",
    "            line = line.split(';')\n",
    "            for i in range(len(line)):\n",
    "                ids.add(int(line[i]))\n",
    "        else:\n",
    "            break\n",
    "    return list(ids), edge_count\n",
    "    \n",
    "def append_extraneous_links(ids, edge_count, out_file, seed_val):\n",
    "    n = len(ids)\n",
    "    num_extra = int(0.01 * edge_count)\n",
    "    id_counter = max(ids)\n",
    "    out = open(out_file, 'a')\n",
    "    random.seed(seed_val)\n",
    "    for i in range(num_extra):\n",
    "        id_counter += 1\n",
    "        dst_ind = random.randint(0, n - 1) # choose a random node's index to point to\n",
    "        # point new dummy citation to the random destination\n",
    "        line = \"%d;%d\\n\" % (id_counter, ids[dst_ind])\n",
    "        out.write(line)\n",
    "        \n",
    "    \n",
    "# given a network, fill a new network with extra links\n",
    "def build_modified_network(network_file, out_file, seed_val):\n",
    "    ids, edge_count = get_ids_and_copy(network_file, out_file)\n",
    "    append_extraneous_links(ids, edge_count, out_file, seed_val)\n",
    "    \n",
    "if __name__ == \"__main__\":\n",
    "    for i in range(30):\n",
    "        build_modified_network('data/DBLP/citation_network.txt', \"data/DBLP/citation_network_modified_%d.txt\" % (i), i)"
   ]
  },
  {
   "cell_type": "markdown",
   "id": "94db1677",
   "metadata": {},
   "source": [
    "### 7.2.2 Running PageRank and MPR on the new data\n",
    "\n",
    "> networks_list_range is a list of indices from 0 to 29 choosing which modified citation networks to use\n",
    "\n",
    "> motif is 'M1' or ... 'M7'\n",
    "\n",
    "> $\\alpha$ in 0 to 1\n",
    "\n",
    "> out_file will have the errors written in"
   ]
  },
  {
   "cell_type": "code",
   "execution_count": 28,
   "id": "668e4593",
   "metadata": {
    "scrolled": true
   },
   "outputs": [
    {
     "name": "stdout",
     "output_type": "stream",
     "text": [
      "For α =  0.1\n",
      "---comparing modified network 0 has taken 97.861194 seconds\n",
      "---comparing modified network 1 has taken 154.213963 seconds\n",
      "---comparing modified network 2 has taken 211.232779 seconds\n",
      "---comparing modified network 3 has taken 272.446150 seconds\n",
      "---comparing modified network 4 has taken 327.504060 seconds\n",
      "Comparing for α = 0.100000  has taken 327.747131 seconds\n",
      "For α =  0.3\n",
      "---comparing modified network 5 has taken 94.502688 seconds\n",
      "---comparing modified network 6 has taken 151.825834 seconds\n",
      "---comparing modified network 7 has taken 208.500685 seconds\n",
      "---comparing modified network 8 has taken 264.169082 seconds\n",
      "---comparing modified network 9 has taken 320.799031 seconds\n",
      "Comparing for α = 0.300000  has taken 648.815226 seconds\n",
      "For α =  0.5\n",
      "---comparing modified network 10 has taken 96.592407 seconds\n",
      "---comparing modified network 11 has taken 154.380440 seconds\n",
      "---comparing modified network 12 has taken 211.893048 seconds\n",
      "---comparing modified network 13 has taken 269.811929 seconds\n",
      "---comparing modified network 14 has taken 327.910916 seconds\n",
      "Comparing for α = 0.500000  has taken 976.914358 seconds\n"
     ]
    }
   ],
   "source": [
    "def compare(networks_list_range, motif, alpha, out_file):\n",
    "    start = time.time()\n",
    "    \n",
    "    f = open(out_file, 'w')\n",
    "    \n",
    "    network_file = 'data/DBLP/citation_network.txt'\n",
    "    cite_net_edges = edge_list_from_network(network_file)\n",
    "    cite_net_adjacency_matrix, cite_net_node_names = get_adjacency_matrix(cite_net_edges)\n",
    "    \n",
    "    PR_old = compute_pagerank(cite_net_adjacency_matrix, alpha)\n",
    "    MPR_old = MPR(cite_net_adjacency_matrix, 1, motif, alpha)\n",
    "    \n",
    "    for i in networks_list_range:\n",
    "        network_file_modified = \"data/DBLP/citation_network_modified_%d.txt\" % (i)\n",
    "        cite_net_edges_modified = edge_list_from_network(network_file_modified)\n",
    "        cite_net_adjacency_matrix_modified, cite_net_node_names_modified = get_adjacency_matrix(cite_net_edges_modified)\n",
    "        \n",
    "        PR_new = compute_pagerank(cite_net_adjacency_matrix_modified, alpha)\n",
    "        MPR_new = MPR(cite_net_adjacency_matrix_modified, 1, motif, alpha)\n",
    "    \n",
    "        error_PR = np.sum(np.absolute(PR_old - PR_new[:len(PR_old)]))\n",
    "        error_MPR = np.sum(np.absolute(MPR_old - MPR_new[:len(MPR_old)]))\n",
    "    \n",
    "        f.write(\"%f;%f\\n\" % (error_PR, error_MPR))\n",
    "        print(\"---comparing modified network %d has taken %f seconds\" %(i,(time.time() - start)))\n",
    "\n",
    "if __name__ == '__main__':\n",
    "    start = time.time()\n",
    "    \n",
    "    motif = 'M7'\n",
    "    \n",
    "    alpha = 0.1\n",
    "    print(\"For \\u03B1 = \", alpha)\n",
    "    compare(range(5), motif, alpha, \"output/DBLP/%s_alpha%s_errors.txt\" % (motif,alpha))\n",
    "    print(\"Comparing for \\u03B1 = %f  has taken %f seconds\" %(alpha,(time.time() - start)))\n",
    "    \n",
    "    alpha = 0.3\n",
    "    print(\"For \\u03B1 = \", alpha)\n",
    "    compare(range(5, 10), motif, alpha, \"output/DBLP/%s_alpha%s_errors.txt\" % (motif,alpha))\n",
    "    print(\"Comparing for \\u03B1 = %f  has taken %f seconds\" %(alpha,(time.time() - start)))\n",
    "    \n",
    "    alpha = 0.5\n",
    "    print(\"For \\u03B1 = \", alpha)\n",
    "    compare(range(10,15), motif, alpha, \"output/DBLP/%s_alpha%s_errors.txt\" % (motif,alpha))\n",
    "    print(\"Comparing for \\u03B1 = %f  has taken %f seconds\" %(alpha,(time.time() - start)))\n",
    "\n",
    "    \n"
   ]
  },
  {
   "cell_type": "markdown",
   "id": "2617ed9c",
   "metadata": {},
   "source": [
    "### 7.2.3 Plotting Errors from Evaluating Robustness"
   ]
  },
  {
   "cell_type": "code",
   "execution_count": 2,
   "id": "65d97c89",
   "metadata": {},
   "outputs": [
    {
     "data": {
      "image/png": "[encoded data removed]",
      "text/plain": [
       "<Figure size 720x432 with 3 Axes>"
      ]
     },
     "metadata": {
      "needs_background": "light"
     },
     "output_type": "display_data"
    }
   ],
   "source": [
    "from matplotlib import pyplot as plt\n",
    "\n",
    "if __name__ == '__main__':\n",
    "    \n",
    "    f = open(\"output/DBLP/M7_alpha0.1_errors.txt\")\n",
    "    pr_1 = []\n",
    "    mpr_1 = []\n",
    "    while True:\n",
    "        line = f.readline()\n",
    "        if line:\n",
    "            line = line.strip()\n",
    "            line = line.split(';')\n",
    "            pr_1.append(float(line[0]))\n",
    "            mpr_1.append(float(line[1]))\n",
    "        else:\n",
    "            break\n",
    "    f.close()\n",
    "        \n",
    "    f = open(\"output/DBLP/M7_alpha0.3_errors.txt\")\n",
    "    pr_3 = []\n",
    "    mpr_3 = []\n",
    "    while True:\n",
    "        line = f.readline()\n",
    "        if line:\n",
    "            line = line.strip()\n",
    "            line = line.split(';')\n",
    "            pr_3.append(float(line[0]))\n",
    "            mpr_3.append(float(line[1]))\n",
    "        else:\n",
    "            break\n",
    "    f.close()\n",
    "        \n",
    "    f = open(\"output/DBLP/M7_alpha0.5_errors.txt\")\n",
    "    pr_5 = []\n",
    "    mpr_5 = []\n",
    "    while True:\n",
    "        line = f.readline()\n",
    "        if line:\n",
    "            line = line.strip()\n",
    "            line = line.split(';')\n",
    "            pr_5.append(float(line[0]))\n",
    "            mpr_5.append(float(line[1]))\n",
    "        else:\n",
    "            break\n",
    "    f.close()\n",
    "    \n",
    "    fig, axes = plt.subplots(nrows = 1, ncols = 3, figsize = (10,6))\n",
    "    \n",
    "    axes[0].plot(range(5), pr_1, label = \"PR\")\n",
    "    axes[0].plot(range(5), mpr_1, label = \"MPR\")\n",
    "    axes[0].set_ylim(0.04, 0.2)\n",
    "    axes[0].set_xlabel(\"modified citation network #\")\n",
    "    axes[0].set_ylabel(\"error\")\n",
    "    axes[0].legend()\n",
    "    axes[0].set_title(\"alpha = 0.1\")\n",
    "    \n",
    "    axes[1].plot(range(5,10), pr_3, label = \"PR\")\n",
    "    axes[1].plot(range(5,10), mpr_3, label = \"MPR\")\n",
    "    axes[1].set_ylim(0.04, 0.2)\n",
    "    axes[1].set_xlabel(\"modified citation network #\")\n",
    "    axes[1].set_ylabel(\"error\")\n",
    "    axes[1].legend()\n",
    "    axes[1].set_title(\"alpha = 0.3\")\n",
    "    \n",
    "    axes[2].plot(range(10,15), pr_5, label = \"PR\")\n",
    "    axes[2].plot(range(10,15), mpr_5, label = \"MPR\")\n",
    "    axes[2].set_ylim(0.04, 0.2)\n",
    "    axes[2].set_xlabel(\"modified citation network #\")\n",
    "    axes[2].set_ylabel(\"error\")\n",
    "    axes[2].legend()\n",
    "    axes[2].set_title(\"alpha = 0.5\")\n",
    "    \n",
    "    fig.tight_layout()\n",
    "    plt.show()"
   ]
  },
  {
   "cell_type": "markdown",
   "id": "0c7c5701",
   "metadata": {},
   "source": [
    "## 7.3 Evaluating Performance"
   ]
  },
  {
   "cell_type": "markdown",
   "id": "c32cebd5",
   "metadata": {},
   "source": [
    "### 7.3.1 Normalized Discounted Cumulative Gain $nDCG$\n",
    "\n",
    "> Adapted from <i>ndcg_DBLP.py</i> from <i>H.Zhao Et.Al</i>"
   ]
  },
  {
   "cell_type": "code",
   "execution_count": 16,
   "id": "238fcb33",
   "metadata": {},
   "outputs": [],
   "source": [
    "import numpy as np\n",
    "import math\n",
    "\n",
    "def read_top(txt_name, dict, K):\n",
    "    f = open(txt_name)\n",
    "    count = 0\n",
    "    result_array = []\n",
    "    name_array = []\n",
    "    while True:\n",
    "        line = f.readline()\n",
    "        if count >= K:\n",
    "            break\n",
    "        if line:\n",
    "            line = line.strip()\n",
    "            line = line.split(';')\n",
    "            name = line[1]\n",
    "            score = dict[name]\n",
    "            if score < 30:\n",
    "                continue\n",
    "            result_array.append(score)\n",
    "            name_array.append(name)\n",
    "            count += 1\n",
    "        else:\n",
    "            break\n",
    "    return result_array, name_array\n",
    "\n",
    "\n",
    "def construct(txt_name):\n",
    "    f = open(txt_name)\n",
    "    user = {}\n",
    "    count = 0\n",
    "    while True:\n",
    "        line = f.readline()\n",
    "        if line:\n",
    "            line = line.strip()\n",
    "            line = line.split(';')\n",
    "            name = line[0]\n",
    "            score = int(line[1])\n",
    "            user[name] = score\n",
    "            count += 1\n",
    "        else:\n",
    "            break\n",
    "    return user\n",
    "\n",
    "\n",
    "def get_ndcg(result1, result2):\n",
    "    sum1 = 0\n",
    "    sum2 = 0\n",
    "    for i in range(len(result1)):\n",
    "        sum1 += result1[i] * 1.0 / (np.log2(i+2))\n",
    "        sum2 += result2[i] * 1.0 / (np.log2(i+2))\n",
    "    return sum2 * 1.0 / sum1"
   ]
  },
  {
   "cell_type": "markdown",
   "id": "ae81daad",
   "metadata": {},
   "source": [
    "### 7.4.2 Compute Normalized Discounted Cumulative Gain $nDCG$"
   ]
  },
  {
   "cell_type": "code",
   "execution_count": 18,
   "id": "af37a3a6",
   "metadata": {},
   "outputs": [],
   "source": [
    "# generalizes __main__ code from ndcg_DBLP for our experiments\n",
    "def compute_ndcg(results_file, K):\n",
    "    txt_name3 = 'data/DBLP/h_index_all.txt'\n",
    "    dict_author = construct(txt_name3)\n",
    "    txt_name = results_file\n",
    "    rank_value = K\n",
    "    rank_array, name_array = read_top(txt_name, dict_author, rank_value)\n",
    "    result = {}\n",
    "    for i in range(len(rank_array)):\n",
    "        score = dict_author[name_array[i]]\n",
    "        result[name_array[i]] = score\n",
    "    result_array = []\n",
    "    dict = sorted(result.items(), key=lambda item: item[1], reverse=True)\n",
    "    for i in range(len(dict)):\n",
    "        result_array.append(dict[i][1])\n",
    "\n",
    "    score = get_ndcg(result_array, rank_array)\n",
    "    return score\n",
    "\n",
    "if __name__ == '__main__':\n",
    "    # for top 10, top 50, top 250, and top 500\n",
    "    K_list = [50,100,250,500,1000]\n",
    "    out = open(\"output/DBLP/ndcg_PR.txt\", 'w')\n",
    "    \n",
    "    for K in K_list:\n",
    "        score = compute_ndcg(\"output/DBLP/result_PR.txt\", K)\n",
    "        out.write(\"%d;%f\\n\" % (K,score))\n",
    "    out.close()\n",
    "    \n",
    "    for i in range(1,8):\n",
    "        motif = \"M%d\" % (i)\n",
    "        out = open(\"output/DBLP/ndcg_%s.txt\" % (motif), 'w')\n",
    "        for K in K_list:\n",
    "            score = compute_ndcg(\"output/DBLP/result_%s.txt\" % (motif), K)\n",
    "            out.write(\"%d;%f\\n\" % (K,score))\n",
    "        out.close()\n"
   ]
  },
  {
   "cell_type": "markdown",
   "id": "25fadcfc",
   "metadata": {},
   "source": [
    "### 7.4.3 Plotting $nDCG$"
   ]
  },
  {
   "cell_type": "code",
   "execution_count": 19,
   "id": "c521a40b",
   "metadata": {},
   "outputs": [
    {
     "data": {
      "image/png": "[encoded data removed]",
      "text/plain": [
       "<Figure size 720x432 with 2 Axes>"
      ]
     },
     "metadata": {
      "needs_background": "light"
     },
     "output_type": "display_data"
    }
   ],
   "source": [
    "from matplotlib import pyplot as plt\n",
    "\n",
    "if __name__ == '__main__':\n",
    "    f = open(\"output/DBLP/ndcg_PR.txt\")\n",
    "    \n",
    "    K_list = []\n",
    "    ndcg_PR = []\n",
    "    while True:\n",
    "        line = f.readline()\n",
    "        if line:\n",
    "            line = line.strip()\n",
    "            line = line.split(';')\n",
    "            K = line[0]\n",
    "            val = float(line[1])\n",
    "            \n",
    "            K_list.append(K)\n",
    "            ndcg_PR.append(val)\n",
    "        else:\n",
    "            break\n",
    "    f.close()\n",
    "        \n",
    "    ndcg_M = []\n",
    "    for i in range(1,8):\n",
    "        ndcg_M_i = []\n",
    "        f = open(\"output/DBLP/ndcg_M%s.txt\" %(i))\n",
    "        while True:\n",
    "            line = f.readline()\n",
    "            if line:\n",
    "                line = line.strip()\n",
    "                line = line.split(';')\n",
    "                K = line[0]\n",
    "                val = float(line[1])\n",
    "                \n",
    "                ndcg_M_i.append(val)\n",
    "            else:\n",
    "                break\n",
    "        f.close()\n",
    "        ndcg_M.append(ndcg_M_i)\n",
    "    \n",
    "    fig, axes = plt.subplots(nrows = 1, ncols = 2, figsize = (10,6))\n",
    "    \n",
    "    for i in range(1,8):\n",
    "        axes[0].plot(K_list, ndcg_M[i-1], label = \"M%s\" % (i))\n",
    "    \n",
    "    axes[0].set_ylim(0.885, 0.965)\n",
    "    axes[0].set_xlabel(\"top K values used\")\n",
    "    axes[0].set_ylabel(\"NDCG\")\n",
    "    axes[0].legend()\n",
    "    \n",
    "    for i in range(1,8):\n",
    "        axes[1].plot(K_list, ndcg_M[i-1], label = \"M%s\" % (i), color = 'black')\n",
    "    axes[1].plot(K_list, ndcg_PR, label = \"PR\", color = 'blue')\n",
    "    axes[1].set_ylim(0.885, 0.965)\n",
    "    axes[1].set_xlabel(\"top K values used\")\n",
    "    axes[1].set_ylabel(\"NDCG\")\n",
    "    axes[1].legend()\n",
    "    \n",
    "    fig.tight_layout()\n",
    "    plt.show()\n"
   ]
  }
 ],
 "metadata": {
  "kernelspec": {
   "display_name": "DSC_NLA_CondaEnv",
   "language": "python",
   "name": "dsc_nla_condaenv"
  },
  "language_info": {
   "codemirror_mode": {
    "name": "ipython",
    "version": 3
   },
   "file_extension": ".py",
   "mimetype": "text/x-python",
   "name": "python",
   "nbconvert_exporter": "python",
   "pygments_lexer": "ipython3",
   "version": "3.9.13"
  }
 },
 "nbformat": 4,
 "nbformat_minor": 5
}
